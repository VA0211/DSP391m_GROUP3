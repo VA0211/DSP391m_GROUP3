{
  "cells": [
    {
      "cell_type": "code",
      "execution_count": 1,
      "metadata": {},
      "outputs": [
        {
          "name": "stdout",
          "output_type": "stream",
          "text": [
            "Using device: cpu\n"
          ]
        }
      ],
      "source": [
        "import torch\n",
        "has_mps = torch.backends.mps.is_built()\n",
        "device = \"mps\" if has_mps else \"cuda\" if torch.cuda.is_available() else \"cpu\"\n",
        "print(f\"Using device: {device}\")"
      ]
    },
    {
      "cell_type": "code",
      "execution_count": 2,
      "metadata": {},
      "outputs": [
        {
          "data": {
            "text/html": [
              "<div>\n",
              "<style scoped>\n",
              "    .dataframe tbody tr th:only-of-type {\n",
              "        vertical-align: middle;\n",
              "    }\n",
              "\n",
              "    .dataframe tbody tr th {\n",
              "        vertical-align: top;\n",
              "    }\n",
              "\n",
              "    .dataframe thead th {\n",
              "        text-align: right;\n",
              "    }\n",
              "</style>\n",
              "<table border=\"1\" class=\"dataframe\">\n",
              "  <thead>\n",
              "    <tr style=\"text-align: right;\">\n",
              "      <th></th>\n",
              "      <th>Date</th>\n",
              "      <th>Buy Cash</th>\n",
              "      <th>Buy Transfer</th>\n",
              "      <th>Sell</th>\n",
              "      <th>inflation_rate_vn</th>\n",
              "      <th>inflation_rate_us</th>\n",
              "      <th>fdi_vn</th>\n",
              "      <th>fdi_us</th>\n",
              "    </tr>\n",
              "  </thead>\n",
              "  <tbody>\n",
              "    <tr>\n",
              "      <th>0</th>\n",
              "      <td>2013-01-01</td>\n",
              "      <td>20760.0</td>\n",
              "      <td>20810.0</td>\n",
              "      <td>20860.0</td>\n",
              "      <td>0.0707</td>\n",
              "      <td>0.016</td>\n",
              "      <td>1.390000</td>\n",
              "      <td>40.6</td>\n",
              "    </tr>\n",
              "    <tr>\n",
              "      <th>1</th>\n",
              "      <td>2013-01-02</td>\n",
              "      <td>20770.0</td>\n",
              "      <td>20820.0</td>\n",
              "      <td>20860.0</td>\n",
              "      <td>0.0707</td>\n",
              "      <td>0.016</td>\n",
              "      <td>1.390000</td>\n",
              "      <td>40.6</td>\n",
              "    </tr>\n",
              "    <tr>\n",
              "      <th>2</th>\n",
              "      <td>2013-01-03</td>\n",
              "      <td>20770.0</td>\n",
              "      <td>20820.0</td>\n",
              "      <td>20860.0</td>\n",
              "      <td>0.0707</td>\n",
              "      <td>0.016</td>\n",
              "      <td>1.390000</td>\n",
              "      <td>40.6</td>\n",
              "    </tr>\n",
              "    <tr>\n",
              "      <th>3</th>\n",
              "      <td>2013-01-04</td>\n",
              "      <td>20770.0</td>\n",
              "      <td>20820.0</td>\n",
              "      <td>20860.0</td>\n",
              "      <td>0.0707</td>\n",
              "      <td>0.016</td>\n",
              "      <td>1.390000</td>\n",
              "      <td>40.6</td>\n",
              "    </tr>\n",
              "    <tr>\n",
              "      <th>4</th>\n",
              "      <td>2013-01-05</td>\n",
              "      <td>20765.0</td>\n",
              "      <td>20815.0</td>\n",
              "      <td>20855.0</td>\n",
              "      <td>0.0707</td>\n",
              "      <td>0.016</td>\n",
              "      <td>1.390000</td>\n",
              "      <td>40.6</td>\n",
              "    </tr>\n",
              "    <tr>\n",
              "      <th>...</th>\n",
              "      <td>...</td>\n",
              "      <td>...</td>\n",
              "      <td>...</td>\n",
              "      <td>...</td>\n",
              "      <td>...</td>\n",
              "      <td>...</td>\n",
              "      <td>...</td>\n",
              "      <td>...</td>\n",
              "    </tr>\n",
              "    <tr>\n",
              "      <th>4005</th>\n",
              "      <td>2023-12-27</td>\n",
              "      <td>24110.0</td>\n",
              "      <td>24140.0</td>\n",
              "      <td>24480.0</td>\n",
              "      <td>0.0358</td>\n",
              "      <td>0.034</td>\n",
              "      <td>20.476667</td>\n",
              "      <td>66.4</td>\n",
              "    </tr>\n",
              "    <tr>\n",
              "      <th>4006</th>\n",
              "      <td>2023-12-28</td>\n",
              "      <td>24030.0</td>\n",
              "      <td>24060.0</td>\n",
              "      <td>24400.0</td>\n",
              "      <td>0.0358</td>\n",
              "      <td>0.034</td>\n",
              "      <td>20.476667</td>\n",
              "      <td>66.4</td>\n",
              "    </tr>\n",
              "    <tr>\n",
              "      <th>4007</th>\n",
              "      <td>2023-12-29</td>\n",
              "      <td>24050.0</td>\n",
              "      <td>24080.0</td>\n",
              "      <td>24420.0</td>\n",
              "      <td>0.0358</td>\n",
              "      <td>0.034</td>\n",
              "      <td>20.476667</td>\n",
              "      <td>66.4</td>\n",
              "    </tr>\n",
              "    <tr>\n",
              "      <th>4008</th>\n",
              "      <td>2023-12-30</td>\n",
              "      <td>24050.0</td>\n",
              "      <td>24080.0</td>\n",
              "      <td>24420.0</td>\n",
              "      <td>0.0358</td>\n",
              "      <td>0.034</td>\n",
              "      <td>20.476667</td>\n",
              "      <td>66.4</td>\n",
              "    </tr>\n",
              "    <tr>\n",
              "      <th>4009</th>\n",
              "      <td>2023-12-31</td>\n",
              "      <td>24050.0</td>\n",
              "      <td>24080.0</td>\n",
              "      <td>24420.0</td>\n",
              "      <td>0.0358</td>\n",
              "      <td>0.034</td>\n",
              "      <td>20.476667</td>\n",
              "      <td>66.4</td>\n",
              "    </tr>\n",
              "  </tbody>\n",
              "</table>\n",
              "<p>4010 rows × 8 columns</p>\n",
              "</div>"
            ],
            "text/plain": [
              "            Date  Buy Cash  Buy Transfer     Sell  inflation_rate_vn  \\\n",
              "0     2013-01-01   20760.0       20810.0  20860.0             0.0707   \n",
              "1     2013-01-02   20770.0       20820.0  20860.0             0.0707   \n",
              "2     2013-01-03   20770.0       20820.0  20860.0             0.0707   \n",
              "3     2013-01-04   20770.0       20820.0  20860.0             0.0707   \n",
              "4     2013-01-05   20765.0       20815.0  20855.0             0.0707   \n",
              "...          ...       ...           ...      ...                ...   \n",
              "4005  2023-12-27   24110.0       24140.0  24480.0             0.0358   \n",
              "4006  2023-12-28   24030.0       24060.0  24400.0             0.0358   \n",
              "4007  2023-12-29   24050.0       24080.0  24420.0             0.0358   \n",
              "4008  2023-12-30   24050.0       24080.0  24420.0             0.0358   \n",
              "4009  2023-12-31   24050.0       24080.0  24420.0             0.0358   \n",
              "\n",
              "      inflation_rate_us     fdi_vn  fdi_us  \n",
              "0                 0.016   1.390000    40.6  \n",
              "1                 0.016   1.390000    40.6  \n",
              "2                 0.016   1.390000    40.6  \n",
              "3                 0.016   1.390000    40.6  \n",
              "4                 0.016   1.390000    40.6  \n",
              "...                 ...        ...     ...  \n",
              "4005              0.034  20.476667    66.4  \n",
              "4006              0.034  20.476667    66.4  \n",
              "4007              0.034  20.476667    66.4  \n",
              "4008              0.034  20.476667    66.4  \n",
              "4009              0.034  20.476667    66.4  \n",
              "\n",
              "[4010 rows x 8 columns]"
            ]
          },
          "execution_count": 2,
          "metadata": {},
          "output_type": "execute_result"
        }
      ],
      "source": [
        "import numpy as np\n",
        "import pandas as pd\n",
        "import torch\n",
        "import torch.nn as nn\n",
        "import random\n",
        "from torch.utils.data import DataLoader, TensorDataset\n",
        "from sklearn.preprocessing import StandardScaler\n",
        "from torch.optim.lr_scheduler import ReduceLROnPlateau\n",
        "from sklearn.model_selection import train_test_split\n",
        "fix_seed = 2024\n",
        "random.seed(fix_seed)\n",
        "torch.manual_seed(fix_seed)\n",
        "np.random.seed(fix_seed)\n",
        "\n",
        "df = pd.read_csv(\n",
        "    \"../crawl/data/clean/df_combine.csv\",\n",
        "    na_values=['-1'], index_col=False)\n",
        "df"
      ]
    },
    {
      "cell_type": "code",
      "execution_count": 3,
      "metadata": {
        "colab": {
          "base_uri": "https://localhost:8080/"
        },
        "id": "L7F_4ZSmxB9i",
        "outputId": "0e8081c3-5305-4d8e-a4d7-9c9862c23af7"
      },
      "outputs": [
        {
          "data": {
            "text/plain": [
              "((2701, 8), (655, 8), (654, 8))"
            ]
          },
          "execution_count": 3,
          "metadata": {},
          "output_type": "execute_result"
        }
      ],
      "source": [
        "# Data Preprocessing\n",
        "df_train = df[df['Date'] < '2020-06-01']\n",
        "df_val_tmp = df[df['Date'] >= '2020-06-01']\n",
        "\n",
        "# Get the indices of the filtered training data\n",
        "val_idx = df_val_tmp.index\n",
        "test_size = int(0.5 * len(val_idx))\n",
        "\n",
        "# # Split indices into train and validation sets\n",
        "train_indices = val_idx[:-test_size]\n",
        "val_indices = val_idx[-test_size:]\n",
        "\n",
        "# Create train and validation DataFrames\n",
        "df_val = df_val_tmp.loc[train_indices]\n",
        "df_test = df_val_tmp.loc[val_indices]\n",
        "\n",
        "# print(train_indices, val_indices)\n",
        "df_train.shape, df_val.shape, df_test.shape"
      ]
    },
    {
      "cell_type": "code",
      "execution_count": 4,
      "metadata": {
        "id": "Cp3FRgWCyHXp"
      },
      "outputs": [],
      "source": [
        "# Define columns to use as features (excluding 'Date' and 'Sell')\n",
        "input_cols = ['Buy Cash', 'Buy Transfer', 'inflation_rate_vn', 'inflation_rate_us', 'fdi_vn', 'fdi_us']\n",
        "target_col = 'Sell'\n",
        "\n",
        "x_train = df_train[input_cols]\n",
        "y_train = df_train[target_col].values.reshape(-1, 1)\n",
        "\n",
        "x_val = df_val[input_cols]\n",
        "y_val = df_val[target_col].values.reshape(-1, 1)\n",
        "\n",
        "x_test = df_test[input_cols]\n",
        "y_test = df_test[target_col].values.reshape(-1, 1)"
      ]
    },
    {
      "cell_type": "code",
      "execution_count": 5,
      "metadata": {
        "id": "A4j_fJ2mM5_Z"
      },
      "outputs": [],
      "source": [
        "# Scale x_train and x_test\n",
        "scaler_x = StandardScaler()\n",
        "x_train_scaled = scaler_x.fit_transform(x_train)\n",
        "x_val_scaled = scaler_x.transform(x_val)\n",
        "x_test_scaled = scaler_x.transform(x_test)\n",
        "\n",
        "# Scale y_train and y_test separately\n",
        "scaler_y = StandardScaler()\n",
        "y_train_scaled = scaler_y.fit_transform(y_train)\n",
        "y_val_scaled = scaler_y.transform(y_val)\n",
        "y_test_scaled = scaler_y.transform(y_test)"
      ]
    },
    {
      "cell_type": "code",
      "execution_count": 6,
      "metadata": {
        "id": "suqHN8ZXHO3T"
      },
      "outputs": [],
      "source": [
        "# Convert numpy arrays to PyTorch tensors\n",
        "x_train_tensor = torch.tensor(x_train_scaled, dtype=torch.float32)\n",
        "y_train_tensor = torch.tensor(y_train_scaled, dtype=torch.float32)\n",
        "x_val_tensor = torch.tensor(x_val_scaled, dtype=torch.float32)\n",
        "y_val_tensor = torch.tensor(y_val_scaled, dtype=torch.float32)\n",
        "x_test_tensor = torch.tensor(x_test_scaled, dtype=torch.float32)\n",
        "y_test_tensor = torch.tensor(y_test_scaled, dtype=torch.float32)\n",
        "\n",
        "# Create DataLoader\n",
        "train_dataset = TensorDataset(x_train_tensor, y_train_tensor)\n",
        "train_loader = DataLoader(train_dataset, batch_size=32, shuffle=False)\n",
        "\n",
        "val_dataset = TensorDataset(x_val_tensor, y_val_tensor)\n",
        "val_loader = DataLoader(val_dataset, batch_size=32, shuffle=False)\n",
        "\n",
        "test_dataset = TensorDataset(x_test_tensor, y_test_tensor)\n",
        "test_loader = DataLoader(test_dataset, batch_size=32, shuffle=False)"
      ]
    },
    {
      "cell_type": "code",
      "execution_count": 7,
      "metadata": {
        "id": "of2JCYxwCLDO"
      },
      "outputs": [],
      "source": [
        "# Positional Encoding for Transformer\n",
        "class PositionalEncoding(nn.Module):\n",
        "    def __init__(self, d_model, dropout=0.1, max_len=5000):\n",
        "        super(PositionalEncoding, self).__init__()\n",
        "        self.dropout = nn.Dropout(p=dropout)\n",
        "\n",
        "        pe = torch.zeros(max_len, d_model)\n",
        "        position = torch.arange(0, max_len, dtype=torch.float).unsqueeze(1)\n",
        "        div_term = torch.exp(torch.arange(0, d_model, 2).float() * (-np.log(10000.0) / d_model))\n",
        "        pe[:, 0::2] = torch.sin(position * div_term)\n",
        "        pe[:, 1::2] = torch.cos(position * div_term)\n",
        "        pe = pe.unsqueeze(0).transpose(0, 1)\n",
        "        self.register_buffer('pe', pe)\n",
        "\n",
        "    def forward(self, x):\n",
        "        x = x + self.pe[:x.size(0), :]\n",
        "        return self.dropout(x)\n",
        "\n",
        "# Transformer Model for Multivariate Forecasting\n",
        "class TransformerModel(nn.Module):\n",
        "    def __init__(self, input_dim=6, d_model=256, nhead=4, num_layers=2, dropout=0.25):\n",
        "        super(TransformerModel, self).__init__()\n",
        "\n",
        "        self.encoder = nn.Linear(input_dim, d_model)\n",
        "        self.pos_encoder = PositionalEncoding(d_model, dropout)\n",
        "        encoder_layers = nn.TransformerEncoderLayer(d_model, nhead)\n",
        "        self.transformer_encoder = nn.TransformerEncoder(encoder_layers, num_layers)\n",
        "        self.decoder = nn.Linear(d_model, 1)\n",
        "\n",
        "    def forward(self, x):\n",
        "        x = self.encoder(x)\n",
        "        x = self.pos_encoder(x)\n",
        "        x = self.transformer_encoder(x)\n",
        "        x = self.decoder(x[:, -1, :])  # Output a single value for each sequence\n",
        "        return x"
      ]
    },
    {
      "cell_type": "code",
      "execution_count": 8,
      "metadata": {
        "colab": {
          "base_uri": "https://localhost:8080/"
        },
        "id": "z_DTlVe-xB3T",
        "outputId": "a49ac1df-0bae-4fe1-d58f-9e409cde3258"
      },
      "outputs": [],
      "source": [
        "# Instantiate the model\n",
        "model = TransformerModel(input_dim=len(input_cols)).to(device)\n",
        "\n",
        "# Define loss function, optimizer, and scheduler\n",
        "criterion = nn.MSELoss()\n",
        "optimizer = torch.optim.Adamax(model.parameters(), lr=0.00001)\n",
        "scheduler = ReduceLROnPlateau(optimizer, 'min', factor=0.25, patience=1, verbose=True)"
      ]
    },
    {
      "cell_type": "code",
      "execution_count": 9,
      "metadata": {
        "colab": {
          "base_uri": "https://localhost:8080/"
        },
        "id": "g22EaC4hwOu-",
        "outputId": "5186f6f9-7d6d-4ddf-ebf4-75e53604f03d"
      },
      "outputs": [
        {
          "name": "stdout",
          "output_type": "stream",
          "text": [
            "Epoch 1/1000, Train Loss: 0.9736, Validation Loss: 0.4600, Test Loss: 1.2979\n",
            "Epoch 2/1000, Train Loss: 0.4900, Validation Loss: 0.4815, Test Loss: 1.2030\n",
            "Epoch 00003: reducing learning rate of group 0 to 2.5000e-06.\n",
            "Epoch 3/1000, Train Loss: 0.2520, Validation Loss: 0.4882, Test Loss: 1.2165\n",
            "Epoch 4/1000, Train Loss: 0.1797, Validation Loss: 0.5109, Test Loss: 1.2804\n",
            "Epoch 00005: reducing learning rate of group 0 to 6.2500e-07.\n",
            "Epoch 5/1000, Train Loss: 0.1560, Validation Loss: 0.5278, Test Loss: 1.3277\n",
            "Epoch 6/1000, Train Loss: 0.1527, Validation Loss: 0.5331, Test Loss: 1.3436\n",
            "Epoch 00007: reducing learning rate of group 0 to 1.5625e-07.\n",
            "Epoch 7/1000, Train Loss: 0.1435, Validation Loss: 0.5354, Test Loss: 1.3506\n",
            "Epoch 8/1000, Train Loss: 0.1436, Validation Loss: 0.5374, Test Loss: 1.3555\n",
            "Epoch 00009: reducing learning rate of group 0 to 3.9063e-08.\n",
            "Epoch 9/1000, Train Loss: 0.1380, Validation Loss: 0.5380, Test Loss: 1.3582\n",
            "Epoch 10/1000, Train Loss: 0.1371, Validation Loss: 0.5380, Test Loss: 1.3584\n",
            "Epoch 00011: reducing learning rate of group 0 to 9.7656e-09.\n",
            "Early stopping!\n"
          ]
        }
      ],
      "source": [
        "epochs = 1000\n",
        "early_stop_count = 0\n",
        "min_val_loss = float('inf')\n",
        "\n",
        "train_loss_list = []\n",
        "val_loss_list = []\n",
        "\n",
        "for epoch in range(epochs):\n",
        "    model.train()\n",
        "    train_losses = []\n",
        "    for batch in train_loader:\n",
        "        x_batch, y_batch = batch\n",
        "        x_batch, y_batch = x_batch.to(device), y_batch.to(device)\n",
        "\n",
        "        optimizer.zero_grad()\n",
        "        outputs = model(x_batch)\n",
        "        loss = criterion(outputs, y_batch)\n",
        "        loss.backward()\n",
        "        optimizer.step()\n",
        "\n",
        "        # Collect train loss for this batch\n",
        "        train_losses.append(loss.item())\n",
        "\n",
        "    # Calculate average training loss for this epoch\n",
        "    epoch_train_loss = np.mean(train_losses)\n",
        "    train_loss_list.append(epoch_train_loss)\n",
        "\n",
        "    # Validation\n",
        "    model.eval()\n",
        "    val_losses = []\n",
        "    test_losses = []\n",
        "    with torch.no_grad():\n",
        "        for batch in val_loader:\n",
        "            x_batch, y_batch = batch\n",
        "            x_batch, y_batch = x_batch.to(device), y_batch.to(device)\n",
        "            outputs = model(x_batch)\n",
        "            val_loss = criterion(outputs, y_batch)\n",
        "            val_losses.append(val_loss.item())\n",
        "        \n",
        "        for batch in test_loader:\n",
        "            x_batch, y_batch = batch\n",
        "            x_batch = x_batch.to(device)\n",
        "            outputs = model(x_batch)\n",
        "            test_loss = criterion(outputs, y_batch)\n",
        "            test_losses.append(test_loss.item())\n",
        "            # predictions.extend(outputs.squeeze().tolist())\n",
        "\n",
        "    epoch_test_loss = np.mean(test_losses)\n",
        "\n",
        "    epoch_val_loss = np.mean(val_losses)\n",
        "    scheduler.step(val_loss)\n",
        "    # Append val loss to list\n",
        "    val_loss_list.append(epoch_val_loss)\n",
        "\n",
        "    if val_loss < min_val_loss:\n",
        "        min_val_loss = val_loss\n",
        "        early_stop_count = 0\n",
        "    else:\n",
        "        early_stop_count += 1\n",
        "\n",
        "    if early_stop_count >= 10:\n",
        "        print(\"Early stopping!\")\n",
        "        break\n",
        "    print(f\"Epoch {epoch + 1}/{epochs}, Train Loss: {epoch_train_loss:.4f}, Validation Loss: {epoch_val_loss:.4f}, Test Loss: {epoch_test_loss:.4f}\")"
      ]
    },
    {
      "cell_type": "code",
      "execution_count": 17,
      "metadata": {},
      "outputs": [
        {
          "data": {
            "image/png": "[encoded data removed]",
            "text/plain": [
              "<Figure size 1000x600 with 1 Axes>"
            ]
          },
          "metadata": {},
          "output_type": "display_data"
        }
      ],
      "source": [
        "import matplotlib.pyplot as plt\n",
        "# Plot Loss\n",
        "plt.figure(figsize=(10, 6))\n",
        "plt.plot(train_loss_list, label='Training Loss')\n",
        "plt.plot(val_loss_list, label='Validation Loss')\n",
        "plt.xlabel('Epochs')\n",
        "plt.ylabel('Loss')\n",
        "plt.title('Training and Validation Loss Over Epochs')\n",
        "plt.legend()\n",
        "plt.grid(True)\n",
        "plt.show()"
      ]
    },
    {
      "cell_type": "code",
      "execution_count": 18,
      "metadata": {
        "colab": {
          "base_uri": "https://localhost:8080/"
        },
        "id": "aCGgpZCYAb1K",
        "outputId": "a2c9b7de-f678-4836-8979-ab4201ac3eb5"
      },
      "outputs": [
        {
          "name": "stdout",
          "output_type": "stream",
          "text": [
            "Model's state_dict:\n",
            "encoder.weight \t torch.Size([256, 6])\n",
            "encoder.bias \t torch.Size([256])\n",
            "pos_encoder.pe \t torch.Size([5000, 1, 256])\n",
            "transformer_encoder.layers.0.self_attn.in_proj_weight \t torch.Size([768, 256])\n",
            "transformer_encoder.layers.0.self_attn.in_proj_bias \t torch.Size([768])\n",
            "transformer_encoder.layers.0.self_attn.out_proj.weight \t torch.Size([256, 256])\n",
            "transformer_encoder.layers.0.self_attn.out_proj.bias \t torch.Size([256])\n",
            "transformer_encoder.layers.0.linear1.weight \t torch.Size([2048, 256])\n",
            "transformer_encoder.layers.0.linear1.bias \t torch.Size([2048])\n",
            "transformer_encoder.layers.0.linear2.weight \t torch.Size([256, 2048])\n",
            "transformer_encoder.layers.0.linear2.bias \t torch.Size([256])\n",
            "transformer_encoder.layers.0.norm1.weight \t torch.Size([256])\n",
            "transformer_encoder.layers.0.norm1.bias \t torch.Size([256])\n",
            "transformer_encoder.layers.0.norm2.weight \t torch.Size([256])\n",
            "transformer_encoder.layers.0.norm2.bias \t torch.Size([256])\n",
            "transformer_encoder.layers.1.self_attn.in_proj_weight \t torch.Size([768, 256])\n",
            "transformer_encoder.layers.1.self_attn.in_proj_bias \t torch.Size([768])\n",
            "transformer_encoder.layers.1.self_attn.out_proj.weight \t torch.Size([256, 256])\n",
            "transformer_encoder.layers.1.self_attn.out_proj.bias \t torch.Size([256])\n",
            "transformer_encoder.layers.1.linear1.weight \t torch.Size([2048, 256])\n",
            "transformer_encoder.layers.1.linear1.bias \t torch.Size([2048])\n",
            "transformer_encoder.layers.1.linear2.weight \t torch.Size([256, 2048])\n",
            "transformer_encoder.layers.1.linear2.bias \t torch.Size([256])\n",
            "transformer_encoder.layers.1.norm1.weight \t torch.Size([256])\n",
            "transformer_encoder.layers.1.norm1.bias \t torch.Size([256])\n",
            "transformer_encoder.layers.1.norm2.weight \t torch.Size([256])\n",
            "transformer_encoder.layers.1.norm2.bias \t torch.Size([256])\n",
            "decoder.weight \t torch.Size([1, 256])\n",
            "decoder.bias \t torch.Size([1])\n"
          ]
        }
      ],
      "source": [
        "# Print model's state_dict\n",
        "print(\"Model's state_dict:\")\n",
        "for param_tensor in model.state_dict():\n",
        "    print(param_tensor, \"\\t\", model.state_dict()[param_tensor].size())\n",
        "\n",
        "# Print optimizer's state_dict\n",
        "# print(\"Optimizer's state_dict:\")\n",
        "# for var_name in optimizer.state_dict():\n",
        "#     print(var_name, \"\\t\", optimizer.state_dict()[var_name])\n",
        "\n",
        "torch.save(model.state_dict(), 'weight/mul_transformer.pth')"
      ]
    },
    {
      "cell_type": "code",
      "execution_count": 19,
      "metadata": {
        "colab": {
          "base_uri": "https://localhost:8080/"
        },
        "id": "ErTggr0IAde2",
        "outputId": "d7c80446-d69d-45f7-cb2a-dd22616ee1ed"
      },
      "outputs": [
        {
          "data": {
            "text/plain": [
              "TransformerModel(\n",
              "  (encoder): Linear(in_features=6, out_features=256, bias=True)\n",
              "  (pos_encoder): PositionalEncoding(\n",
              "    (dropout): Dropout(p=0.25, inplace=False)\n",
              "  )\n",
              "  (transformer_encoder): TransformerEncoder(\n",
              "    (layers): ModuleList(\n",
              "      (0-1): 2 x TransformerEncoderLayer(\n",
              "        (self_attn): MultiheadAttention(\n",
              "          (out_proj): NonDynamicallyQuantizableLinear(in_features=256, out_features=256, bias=True)\n",
              "        )\n",
              "        (linear1): Linear(in_features=256, out_features=2048, bias=True)\n",
              "        (dropout): Dropout(p=0.1, inplace=False)\n",
              "        (linear2): Linear(in_features=2048, out_features=256, bias=True)\n",
              "        (norm1): LayerNorm((256,), eps=1e-05, elementwise_affine=True)\n",
              "        (norm2): LayerNorm((256,), eps=1e-05, elementwise_affine=True)\n",
              "        (dropout1): Dropout(p=0.1, inplace=False)\n",
              "        (dropout2): Dropout(p=0.1, inplace=False)\n",
              "      )\n",
              "    )\n",
              "  )\n",
              "  (decoder): Linear(in_features=256, out_features=1, bias=True)\n",
              ")"
            ]
          },
          "execution_count": 19,
          "metadata": {},
          "output_type": "execute_result"
        }
      ],
      "source": [
        "model = TransformerModel(input_dim=len(input_cols)).to(device)\n",
        "model.load_state_dict(torch.load('weight/mul_transformer.pth'))\n",
        "model.eval()"
      ]
    },
    {
      "cell_type": "code",
      "execution_count": 20,
      "metadata": {
        "colab": {
          "base_uri": "https://localhost:8080/"
        },
        "id": "H45j51470Ry7",
        "outputId": "3bd56702-2162-4129-ccab-54f1f454c575"
      },
      "outputs": [
        {
          "name": "stdout",
          "output_type": "stream",
          "text": [
            "Score (MSE): 1.3718\n",
            "Score (MAE): 1.1412\n"
          ]
        }
      ],
      "source": [
        "from sklearn.metrics import mean_squared_error, mean_absolute_error, r2_score\n",
        "\n",
        "# Evaluation\n",
        "predictions = []\n",
        "with torch.no_grad():\n",
        "    for batch in test_loader:\n",
        "        x_batch, y_batch = batch\n",
        "        x_batch = x_batch.to(device)\n",
        "        outputs = model(x_batch)\n",
        "        predictions.extend(outputs.squeeze().tolist())\n",
        "\n",
        "# Convert predictions and ground truth to numpy arrays\n",
        "predictions = np.array(predictions)\n",
        "y_test_numpy = y_test_tensor.numpy()\n",
        "\n",
        "# # Calculate RMSE\n",
        "# rmse = np.sqrt(mean_squared_error(y_test_numpy, predictions))\n",
        "# print(f\"Score (RMSE): {rmse:.4f}\")\n",
        "\n",
        "# Calculate MSE\n",
        "mse = mean_squared_error(y_test_numpy, predictions)\n",
        "print(f\"Score (MSE): {mse:.4f}\")\n",
        "\n",
        "# Calculate MAE\n",
        "mae = mean_absolute_error(y_test_numpy, predictions)\n",
        "print(f\"Score (MAE): {mae:.4f}\")\n",
        "\n",
        "# Calculate R-Squared\n",
        "# r2 = r2_score(y_test_numpy, predictions)\n",
        "# print(f\"Score (R-Squared): {r2:.4f}\")"
      ]
    },
    {
      "cell_type": "code",
      "execution_count": 21,
      "metadata": {
        "colab": {
          "base_uri": "https://localhost:8080/"
        },
        "id": "MIebpu5QBB2T",
        "outputId": "2699c6c2-c065-47c3-8a29-c79c738dcaa0"
      },
      "outputs": [
        {
          "data": {
            "text/plain": [
              "(654, 654)"
            ]
          },
          "execution_count": 21,
          "metadata": {},
          "output_type": "execute_result"
        }
      ],
      "source": [
        "len(y_test), len(predictions)"
      ]
    },
    {
      "cell_type": "code",
      "execution_count": 22,
      "metadata": {
        "colab": {
          "base_uri": "https://localhost:8080/"
        },
        "id": "1CC7QSvWAmJc",
        "outputId": "e843fdeb-8876-4e74-fefc-7f6ab9a1bb6a"
      },
      "outputs": [
        {
          "data": {
            "text/plain": [
              "654"
            ]
          },
          "execution_count": 22,
          "metadata": {},
          "output_type": "execute_result"
        }
      ],
      "source": [
        "# Inverse transform the predictions and ground truth to visualize\n",
        "predictions_inverse = scaler_y.inverse_transform(predictions.reshape(-1, 1)).reshape(-1)\n",
        "y_test_inverse = scaler_y.inverse_transform(y_test_numpy.reshape(-1, 1)).reshape(-1)\n",
        "len(y_test_inverse)"
      ]
    },
    {
      "cell_type": "code",
      "execution_count": 16,
      "metadata": {
        "colab": {
          "base_uri": "https://localhost:8080/",
          "height": 564
        },
        "id": "f_z0KEFKAnIi",
        "outputId": "c10cb80c-6fc7-4bfa-f768-975db21e5ed8"
      },
      "outputs": [
        {
          "data": {
            "image/png": "[encoded data removed]",
            "text/plain": [
              "<Figure size 1200x600 with 1 Axes>"
            ]
          },
          "metadata": {},
          "output_type": "display_data"
        }
      ],
      "source": [
        "import matplotlib.pyplot as plt\n",
        "\n",
        "plt.figure(figsize=(12, 6))\n",
        "plt.plot(y_test_inverse, label='True Values', color='blue')\n",
        "plt.plot(predictions_inverse, label='Predictions', color='red', alpha=0.7)\n",
        "plt.title('True Values vs Predictions')\n",
        "plt.xlabel('Sample Index')\n",
        "plt.ylabel('Value')\n",
        "plt.legend()\n",
        "plt.show()"
      ]
    },
    {
      "cell_type": "code",
      "execution_count": null,
      "metadata": {
        "id": "yfvyb1PSP9eF"
      },
      "outputs": [],
      "source": []
    }
  ],
  "metadata": {
    "accelerator": "GPU",
    "anaconda-cloud": {},
    "colab": {
      "gpuType": "T4",
      "provenance": []
    },
    "kernelspec": {
      "display_name": "venv",
      "language": "python",
      "name": "python3"
    },
    "language_info": {
      "codemirror_mode": {
        "name": "ipython",
        "version": 3
      },
      "file_extension": ".py",
      "mimetype": "text/x-python",
      "name": "python",
      "nbconvert_exporter": "python",
      "pygments_lexer": "ipython3",
      "version": "3.10.2"
    }
  },
  "nbformat": 4,
  "nbformat_minor": 0
}
