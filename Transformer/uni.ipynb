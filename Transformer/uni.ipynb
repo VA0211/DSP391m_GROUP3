{
  "cells": [
    {
      "cell_type": "code",
      "execution_count": 1,
      "metadata": {
        "colab": {
          "base_uri": "https://localhost:8080/"
        },
        "id": "_YJNQP1WRQFH",
        "outputId": "0034af03-88d4-425a-eed7-6cc3a86ec14c"
      },
      "outputs": [
        {
          "name": "stdout",
          "output_type": "stream",
          "text": [
            "Using device: cpu\n"
          ]
        }
      ],
      "source": [
        "import torch\n",
        "has_mps = torch.backends.mps.is_built()\n",
        "device = \"mps\" if has_mps else \"cuda\" if torch.cuda.is_available() else \"cpu\"\n",
        "print(f\"Using device: {device}\")"
      ]
    },
    {
      "cell_type": "code",
      "execution_count": 2,
      "metadata": {
        "colab": {
          "base_uri": "https://localhost:8080/",
          "height": 424
        },
        "id": "RvQ6vUqbE6r6",
        "outputId": "5e2c3b76-c640-4361-c7b2-debc7b6397d2"
      },
      "outputs": [
        {
          "data": {
            "text/html": [
              "<div>\n",
              "<style scoped>\n",
              "    .dataframe tbody tr th:only-of-type {\n",
              "        vertical-align: middle;\n",
              "    }\n",
              "\n",
              "    .dataframe tbody tr th {\n",
              "        vertical-align: top;\n",
              "    }\n",
              "\n",
              "    .dataframe thead th {\n",
              "        text-align: right;\n",
              "    }\n",
              "</style>\n",
              "<table border=\"1\" class=\"dataframe\">\n",
              "  <thead>\n",
              "    <tr style=\"text-align: right;\">\n",
              "      <th></th>\n",
              "      <th>Date</th>\n",
              "      <th>Buy Cash</th>\n",
              "      <th>Buy Transfer</th>\n",
              "      <th>Sell</th>\n",
              "      <th>inflation_rate_vn</th>\n",
              "      <th>inflation_rate_us</th>\n",
              "      <th>fdi_vn</th>\n",
              "      <th>fdi_us</th>\n",
              "    </tr>\n",
              "  </thead>\n",
              "  <tbody>\n",
              "    <tr>\n",
              "      <th>0</th>\n",
              "      <td>2013-01-01</td>\n",
              "      <td>20760.0</td>\n",
              "      <td>20810.0</td>\n",
              "      <td>20860.0</td>\n",
              "      <td>0.0707</td>\n",
              "      <td>0.016</td>\n",
              "      <td>1.390000</td>\n",
              "      <td>40.6</td>\n",
              "    </tr>\n",
              "    <tr>\n",
              "      <th>1</th>\n",
              "      <td>2013-01-02</td>\n",
              "      <td>20770.0</td>\n",
              "      <td>20820.0</td>\n",
              "      <td>20860.0</td>\n",
              "      <td>0.0707</td>\n",
              "      <td>0.016</td>\n",
              "      <td>1.390000</td>\n",
              "      <td>40.6</td>\n",
              "    </tr>\n",
              "    <tr>\n",
              "      <th>2</th>\n",
              "      <td>2013-01-03</td>\n",
              "      <td>20770.0</td>\n",
              "      <td>20820.0</td>\n",
              "      <td>20860.0</td>\n",
              "      <td>0.0707</td>\n",
              "      <td>0.016</td>\n",
              "      <td>1.390000</td>\n",
              "      <td>40.6</td>\n",
              "    </tr>\n",
              "    <tr>\n",
              "      <th>3</th>\n",
              "      <td>2013-01-04</td>\n",
              "      <td>20770.0</td>\n",
              "      <td>20820.0</td>\n",
              "      <td>20860.0</td>\n",
              "      <td>0.0707</td>\n",
              "      <td>0.016</td>\n",
              "      <td>1.390000</td>\n",
              "      <td>40.6</td>\n",
              "    </tr>\n",
              "    <tr>\n",
              "      <th>4</th>\n",
              "      <td>2013-01-05</td>\n",
              "      <td>20765.0</td>\n",
              "      <td>20815.0</td>\n",
              "      <td>20855.0</td>\n",
              "      <td>0.0707</td>\n",
              "      <td>0.016</td>\n",
              "      <td>1.390000</td>\n",
              "      <td>40.6</td>\n",
              "    </tr>\n",
              "    <tr>\n",
              "      <th>...</th>\n",
              "      <td>...</td>\n",
              "      <td>...</td>\n",
              "      <td>...</td>\n",
              "      <td>...</td>\n",
              "      <td>...</td>\n",
              "      <td>...</td>\n",
              "      <td>...</td>\n",
              "      <td>...</td>\n",
              "    </tr>\n",
              "    <tr>\n",
              "      <th>4005</th>\n",
              "      <td>2023-12-27</td>\n",
              "      <td>24110.0</td>\n",
              "      <td>24140.0</td>\n",
              "      <td>24480.0</td>\n",
              "      <td>0.0358</td>\n",
              "      <td>0.034</td>\n",
              "      <td>20.476667</td>\n",
              "      <td>66.4</td>\n",
              "    </tr>\n",
              "    <tr>\n",
              "      <th>4006</th>\n",
              "      <td>2023-12-28</td>\n",
              "      <td>24030.0</td>\n",
              "      <td>24060.0</td>\n",
              "      <td>24400.0</td>\n",
              "      <td>0.0358</td>\n",
              "      <td>0.034</td>\n",
              "      <td>20.476667</td>\n",
              "      <td>66.4</td>\n",
              "    </tr>\n",
              "    <tr>\n",
              "      <th>4007</th>\n",
              "      <td>2023-12-29</td>\n",
              "      <td>24050.0</td>\n",
              "      <td>24080.0</td>\n",
              "      <td>24420.0</td>\n",
              "      <td>0.0358</td>\n",
              "      <td>0.034</td>\n",
              "      <td>20.476667</td>\n",
              "      <td>66.4</td>\n",
              "    </tr>\n",
              "    <tr>\n",
              "      <th>4008</th>\n",
              "      <td>2023-12-30</td>\n",
              "      <td>24050.0</td>\n",
              "      <td>24080.0</td>\n",
              "      <td>24420.0</td>\n",
              "      <td>0.0358</td>\n",
              "      <td>0.034</td>\n",
              "      <td>20.476667</td>\n",
              "      <td>66.4</td>\n",
              "    </tr>\n",
              "    <tr>\n",
              "      <th>4009</th>\n",
              "      <td>2023-12-31</td>\n",
              "      <td>24050.0</td>\n",
              "      <td>24080.0</td>\n",
              "      <td>24420.0</td>\n",
              "      <td>0.0358</td>\n",
              "      <td>0.034</td>\n",
              "      <td>20.476667</td>\n",
              "      <td>66.4</td>\n",
              "    </tr>\n",
              "  </tbody>\n",
              "</table>\n",
              "<p>4010 rows × 8 columns</p>\n",
              "</div>"
            ],
            "text/plain": [
              "            Date  Buy Cash  Buy Transfer     Sell  inflation_rate_vn  \\\n",
              "0     2013-01-01   20760.0       20810.0  20860.0             0.0707   \n",
              "1     2013-01-02   20770.0       20820.0  20860.0             0.0707   \n",
              "2     2013-01-03   20770.0       20820.0  20860.0             0.0707   \n",
              "3     2013-01-04   20770.0       20820.0  20860.0             0.0707   \n",
              "4     2013-01-05   20765.0       20815.0  20855.0             0.0707   \n",
              "...          ...       ...           ...      ...                ...   \n",
              "4005  2023-12-27   24110.0       24140.0  24480.0             0.0358   \n",
              "4006  2023-12-28   24030.0       24060.0  24400.0             0.0358   \n",
              "4007  2023-12-29   24050.0       24080.0  24420.0             0.0358   \n",
              "4008  2023-12-30   24050.0       24080.0  24420.0             0.0358   \n",
              "4009  2023-12-31   24050.0       24080.0  24420.0             0.0358   \n",
              "\n",
              "      inflation_rate_us     fdi_vn  fdi_us  \n",
              "0                 0.016   1.390000    40.6  \n",
              "1                 0.016   1.390000    40.6  \n",
              "2                 0.016   1.390000    40.6  \n",
              "3                 0.016   1.390000    40.6  \n",
              "4                 0.016   1.390000    40.6  \n",
              "...                 ...        ...     ...  \n",
              "4005              0.034  20.476667    66.4  \n",
              "4006              0.034  20.476667    66.4  \n",
              "4007              0.034  20.476667    66.4  \n",
              "4008              0.034  20.476667    66.4  \n",
              "4009              0.034  20.476667    66.4  \n",
              "\n",
              "[4010 rows x 8 columns]"
            ]
          },
          "execution_count": 2,
          "metadata": {},
          "output_type": "execute_result"
        }
      ],
      "source": [
        "import numpy as np\n",
        "import pandas as pd\n",
        "import torch\n",
        "import torch.nn as nn\n",
        "import random\n",
        "from torch.utils.data import DataLoader, TensorDataset\n",
        "from sklearn.preprocessing import StandardScaler\n",
        "from torch.optim.lr_scheduler import ReduceLROnPlateau\n",
        "from sklearn.model_selection import train_test_split\n",
        "fix_seed = 2024\n",
        "random.seed(fix_seed)\n",
        "torch.manual_seed(fix_seed)\n",
        "np.random.seed(fix_seed)\n",
        "\n",
        "df = pd.read_csv(\n",
        "    \"../crawl/data/clean/df_combine.csv\",\n",
        "    na_values=['-1'], index_col=False)\n",
        "df"
      ]
    },
    {
      "cell_type": "code",
      "execution_count": 3,
      "metadata": {
        "colab": {
          "base_uri": "https://localhost:8080/"
        },
        "id": "us_X4qz3NVh9",
        "outputId": "e8a3c089-5fd7-477e-a561-060a545667f4"
      },
      "outputs": [
        {
          "data": {
            "text/plain": [
              "((2701, 8), (786, 8), (523, 8))"
            ]
          },
          "execution_count": 3,
          "metadata": {},
          "output_type": "execute_result"
        }
      ],
      "source": [
        "# Data Preprocessing\n",
        "df_train = df[df['Date'] < '2020-06-01']\n",
        "df_val_tmp = df[df['Date'] >= '2020-06-01']\n",
        "\n",
        "# Get the indices of the filtered training data\n",
        "val_idx = df_val_tmp.index\n",
        "test_size = int(0.4 * len(val_idx))\n",
        "\n",
        "# # Split indices into train and validation sets\n",
        "train_indices = val_idx[:-test_size]\n",
        "val_indices = val_idx[-test_size:]\n",
        "\n",
        "# Create train and validation DataFrames\n",
        "df_val = df_val_tmp.loc[train_indices]\n",
        "df_test = df_val_tmp.loc[val_indices]\n",
        "\n",
        "# print(train_indices, val_indices)\n",
        "df_train.shape, df_val.shape, df_test.shape"
      ]
    },
    {
      "cell_type": "code",
      "execution_count": 4,
      "metadata": {
        "id": "-a-VnGB5sYb_"
      },
      "outputs": [],
      "source": [
        "spots_train = df_train['Sell'].to_numpy().reshape(-1, 1)\n",
        "spots_val = df_val['Sell'].to_numpy().reshape(-1, 1)\n",
        "spots_test = df_test['Sell'].to_numpy().reshape(-1, 1)\n",
        "\n",
        "scaler = StandardScaler()\n",
        "spots_train = scaler.fit_transform(spots_train).flatten().tolist()\n",
        "spots_val = scaler.transform(spots_val).flatten().tolist()\n",
        "spots_test = scaler.transform(spots_test).flatten().tolist()"
      ]
    },
    {
      "cell_type": "code",
      "execution_count": 5,
      "metadata": {
        "id": "9utrJg62N1P-"
      },
      "outputs": [],
      "source": [
        "from re import X\n",
        "# Sequence Data Preparation\n",
        "SEQUENCE_SIZE = 20\n",
        "\n",
        "def to_sequences(seq_size, obs):\n",
        "    x = []\n",
        "    y = []\n",
        "    for i in range(len(obs) - seq_size):\n",
        "        window = obs[i:(i + seq_size)]\n",
        "        after_window = obs[i + seq_size]\n",
        "        x.append(window)\n",
        "        y.append(after_window)\n",
        "    return torch.tensor(x, dtype=torch.float32).view(-1, seq_size, 1), torch.tensor(y, dtype=torch.float32).view(-1, 1)\n",
        "\n",
        "x_train, y_train = to_sequences(SEQUENCE_SIZE, spots_train)\n",
        "x_val, y_val = to_sequences(SEQUENCE_SIZE, spots_val)\n",
        "x_test, y_test = to_sequences(SEQUENCE_SIZE, spots_test)\n",
        "\n",
        "# Setup data loaders for batch\n",
        "train_dataset = TensorDataset(x_train, y_train)\n",
        "train_loader = DataLoader(train_dataset, batch_size=32, shuffle=False)\n",
        "\n",
        "val_dataset = TensorDataset(x_val, y_val)\n",
        "val_loader = DataLoader(val_dataset, batch_size=32, shuffle=False)\n",
        "\n",
        "test_dataset = TensorDataset(x_test, y_test)\n",
        "test_loader = DataLoader(test_dataset, batch_size=32, shuffle=False)"
      ]
    },
    {
      "cell_type": "code",
      "execution_count": 6,
      "metadata": {
        "id": "wi-bRiyCN7Cw"
      },
      "outputs": [],
      "source": [
        "# Positional Encoding for Transformer\n",
        "class PositionalEncoding(nn.Module):\n",
        "    def __init__(self, d_model, dropout=0.1, max_len=5000):\n",
        "        super(PositionalEncoding, self).__init__()\n",
        "        self.dropout = nn.Dropout(p=dropout)\n",
        "\n",
        "        pe = torch.zeros(max_len, d_model)\n",
        "        position = torch.arange(0, max_len, dtype=torch.float).unsqueeze(1)\n",
        "        div_term = torch.exp(torch.arange(0, d_model, 2).float() * (-np.log(10000.0) / d_model))\n",
        "        pe[:, 0::2] = torch.sin(position * div_term)\n",
        "        pe[:, 1::2] = torch.cos(position * div_term)\n",
        "        pe = pe.unsqueeze(0).transpose(0, 1)\n",
        "        self.register_buffer('pe', pe)\n",
        "\n",
        "    def forward(self, x):\n",
        "        x = x + self.pe[:x.size(0), :]\n",
        "        return self.dropout(x)"
      ]
    },
    {
      "cell_type": "code",
      "execution_count": 7,
      "metadata": {
        "id": "hoT-VFSdOANz"
      },
      "outputs": [],
      "source": [
        "# Model definition using Transformer\n",
        "class TransformerModel(nn.Module):\n",
        "    def __init__(self, input_dim=1, d_model=128, nhead=4, num_layers=2, dropout=0.2):\n",
        "        super(TransformerModel, self).__init__()\n",
        "\n",
        "        self.encoder = nn.Linear(input_dim, d_model)\n",
        "        self.pos_encoder = PositionalEncoding(d_model, dropout)\n",
        "        encoder_layers = nn.TransformerEncoderLayer(d_model, nhead)\n",
        "        self.transformer_encoder = nn.TransformerEncoder(encoder_layers, num_layers)\n",
        "        self.decoder = nn.Linear(d_model, 1)\n",
        "\n",
        "    def forward(self, x):\n",
        "        x = self.encoder(x)\n",
        "        x = self.pos_encoder(x)\n",
        "        x = self.transformer_encoder(x)\n",
        "        x = self.decoder(x[:, -1, :])\n",
        "        return x"
      ]
    },
    {
      "cell_type": "code",
      "execution_count": 8,
      "metadata": {
        "colab": {
          "base_uri": "https://localhost:8080/"
        },
        "id": "g8-mF1OCOLnB",
        "outputId": "e342621a-e907-481f-9168-43612d16bde9"
      },
      "outputs": [
        {
          "name": "stdout",
          "output_type": "stream",
          "text": [
            "Epoch 1/1000, Validation Loss: 0.0558, Test Loss: 0.5907\n",
            "Epoch 2/1000, Validation Loss: 0.0274, Test Loss: 0.4197\n",
            "Epoch 3/1000, Validation Loss: 0.0211, Test Loss: 0.3407\n",
            "Epoch 4/1000, Validation Loss: 0.0234, Test Loss: 0.2764\n",
            "Epoch 5/1000, Validation Loss: 0.0228, Test Loss: 0.2273\n",
            "Epoch 6/1000, Validation Loss: 0.0178, Test Loss: 0.2280\n",
            "Epoch 7/1000, Validation Loss: 0.0206, Test Loss: 0.2050\n",
            "Epoch 8/1000, Validation Loss: 0.0217, Test Loss: 0.1884\n",
            "Epoch 9/1000, Validation Loss: 0.0101, Test Loss: 0.1900\n",
            "Epoch 10/1000, Validation Loss: 0.0180, Test Loss: 0.1618\n",
            "Epoch 11/1000, Validation Loss: 0.0120, Test Loss: 0.1524\n",
            "Epoch 00012: reducing learning rate of group 0 to 5.0000e-05.\n",
            "Epoch 12/1000, Validation Loss: 0.0155, Test Loss: 0.1216\n",
            "Epoch 13/1000, Validation Loss: 0.0054, Test Loss: 0.1570\n",
            "Epoch 14/1000, Validation Loss: 0.0060, Test Loss: 0.1690\n",
            "Epoch 15/1000, Validation Loss: 0.0053, Test Loss: 0.1727\n",
            "Epoch 16/1000, Validation Loss: 0.0090, Test Loss: 0.1636\n",
            "Epoch 17/1000, Validation Loss: 0.0083, Test Loss: 0.1537\n",
            "Epoch 00018: reducing learning rate of group 0 to 2.5000e-05.\n",
            "Epoch 18/1000, Validation Loss: 0.0073, Test Loss: 0.1577\n",
            "Epoch 19/1000, Validation Loss: 0.0123, Test Loss: 0.1364\n",
            "Early stopping!\n"
          ]
        }
      ],
      "source": [
        "model = TransformerModel().to(device)\n",
        "# Train the model\n",
        "criterion = nn.MSELoss()\n",
        "optimizer = torch.optim.Adamax(model.parameters(), lr=0.0001)\n",
        "scheduler = ReduceLROnPlateau(optimizer, 'min', factor=0.5, patience=2, verbose=True)\n",
        "\n",
        "epochs = 1000\n",
        "early_stop_count = 0\n",
        "min_val_loss = float('inf')\n",
        "\n",
        "for epoch in range(epochs):\n",
        "    model.train()\n",
        "    for batch in train_loader:\n",
        "        x_batch, y_batch = batch\n",
        "        x_batch, y_batch = x_batch.to(device), y_batch.to(device)\n",
        "\n",
        "        optimizer.zero_grad()\n",
        "        outputs = model(x_batch)\n",
        "        loss = criterion(outputs, y_batch)\n",
        "        loss.backward()\n",
        "        optimizer.step()\n",
        "\n",
        "    # Validation\n",
        "    model.eval()\n",
        "    val_losses = []\n",
        "    test_losses = []\n",
        "    with torch.no_grad():\n",
        "        for batch in val_loader:\n",
        "            x_batch, y_batch = batch\n",
        "            x_batch, y_batch = x_batch.to(device), y_batch.to(device)\n",
        "            outputs = model(x_batch)\n",
        "            val_loss = criterion(outputs, y_batch)\n",
        "            val_losses.append(val_loss.item())\n",
        "        \n",
        "        for batch in test_loader:\n",
        "            x_batch, y_batch = batch\n",
        "            x_batch = x_batch.to(device)\n",
        "            outputs = model(x_batch)\n",
        "            test_loss = criterion(outputs, y_batch)\n",
        "            test_losses.append(test_loss.item())\n",
        "            # predictions.extend(outputs.squeeze().tolist())\n",
        "\n",
        "    val_loss = np.mean(val_losses)\n",
        "    test_loss = np.mean(test_losses)\n",
        "    scheduler.step(val_loss)\n",
        "\n",
        "    if val_loss < min_val_loss:\n",
        "        min_val_loss = val_loss\n",
        "        early_stop_count = 0\n",
        "    else:\n",
        "        early_stop_count += 1\n",
        "\n",
        "    if early_stop_count >= 5:\n",
        "        print(\"Early stopping!\")\n",
        "        break\n",
        "    print(f\"Epoch {epoch + 1}/{epochs}, Validation Loss: {val_loss:.4f}, Test Loss: {test_loss:.4f}\")"
      ]
    },
    {
      "cell_type": "markdown",
      "metadata": {
        "id": "HS-lkHvOhXGm"
      },
      "source": [
        "We can now evaluate the performance of this model."
      ]
    },
    {
      "cell_type": "code",
      "execution_count": 9,
      "metadata": {
        "colab": {
          "base_uri": "https://localhost:8080/"
        },
        "id": "ictNdk9t3bbE",
        "outputId": "48a4528e-3857-4845-a51c-f381e8b2a3f7"
      },
      "outputs": [
        {
          "name": "stdout",
          "output_type": "stream",
          "text": [
            "Model's state_dict:\n",
            "encoder.weight \t torch.Size([128, 1])\n",
            "encoder.bias \t torch.Size([128])\n",
            "pos_encoder.pe \t torch.Size([5000, 1, 128])\n",
            "transformer_encoder.layers.0.self_attn.in_proj_weight \t torch.Size([384, 128])\n",
            "transformer_encoder.layers.0.self_attn.in_proj_bias \t torch.Size([384])\n",
            "transformer_encoder.layers.0.self_attn.out_proj.weight \t torch.Size([128, 128])\n",
            "transformer_encoder.layers.0.self_attn.out_proj.bias \t torch.Size([128])\n",
            "transformer_encoder.layers.0.linear1.weight \t torch.Size([2048, 128])\n",
            "transformer_encoder.layers.0.linear1.bias \t torch.Size([2048])\n",
            "transformer_encoder.layers.0.linear2.weight \t torch.Size([128, 2048])\n",
            "transformer_encoder.layers.0.linear2.bias \t torch.Size([128])\n",
            "transformer_encoder.layers.0.norm1.weight \t torch.Size([128])\n",
            "transformer_encoder.layers.0.norm1.bias \t torch.Size([128])\n",
            "transformer_encoder.layers.0.norm2.weight \t torch.Size([128])\n",
            "transformer_encoder.layers.0.norm2.bias \t torch.Size([128])\n",
            "transformer_encoder.layers.1.self_attn.in_proj_weight \t torch.Size([384, 128])\n",
            "transformer_encoder.layers.1.self_attn.in_proj_bias \t torch.Size([384])\n",
            "transformer_encoder.layers.1.self_attn.out_proj.weight \t torch.Size([128, 128])\n",
            "transformer_encoder.layers.1.self_attn.out_proj.bias \t torch.Size([128])\n",
            "transformer_encoder.layers.1.linear1.weight \t torch.Size([2048, 128])\n",
            "transformer_encoder.layers.1.linear1.bias \t torch.Size([2048])\n",
            "transformer_encoder.layers.1.linear2.weight \t torch.Size([128, 2048])\n",
            "transformer_encoder.layers.1.linear2.bias \t torch.Size([128])\n",
            "transformer_encoder.layers.1.norm1.weight \t torch.Size([128])\n",
            "transformer_encoder.layers.1.norm1.bias \t torch.Size([128])\n",
            "transformer_encoder.layers.1.norm2.weight \t torch.Size([128])\n",
            "transformer_encoder.layers.1.norm2.bias \t torch.Size([128])\n",
            "decoder.weight \t torch.Size([1, 128])\n",
            "decoder.bias \t torch.Size([1])\n"
          ]
        }
      ],
      "source": [
        "# Print model's state_dict\n",
        "print(\"Model's state_dict:\")\n",
        "for param_tensor in model.state_dict():\n",
        "    print(param_tensor, \"\\t\", model.state_dict()[param_tensor].size())\n",
        "\n",
        "# Print optimizer's state_dict\n",
        "# print(\"Optimizer's state_dict:\")\n",
        "# for var_name in optimizer.state_dict():\n",
        "#     print(var_name, \"\\t\", optimizer.state_dict()[var_name])\n",
        "\n",
        "torch.save(model.state_dict(), 'weight/uni_transformer.pth')"
      ]
    },
    {
      "cell_type": "code",
      "execution_count": 10,
      "metadata": {
        "colab": {
          "base_uri": "https://localhost:8080/"
        },
        "id": "rTnP9cQG3VSq",
        "outputId": "1215f55b-a714-4e6d-b4fd-7435a523e29b"
      },
      "outputs": [
        {
          "data": {
            "text/plain": [
              "TransformerModel(\n",
              "  (encoder): Linear(in_features=1, out_features=128, bias=True)\n",
              "  (pos_encoder): PositionalEncoding(\n",
              "    (dropout): Dropout(p=0.2, inplace=False)\n",
              "  )\n",
              "  (transformer_encoder): TransformerEncoder(\n",
              "    (layers): ModuleList(\n",
              "      (0-1): 2 x TransformerEncoderLayer(\n",
              "        (self_attn): MultiheadAttention(\n",
              "          (out_proj): NonDynamicallyQuantizableLinear(in_features=128, out_features=128, bias=True)\n",
              "        )\n",
              "        (linear1): Linear(in_features=128, out_features=2048, bias=True)\n",
              "        (dropout): Dropout(p=0.1, inplace=False)\n",
              "        (linear2): Linear(in_features=2048, out_features=128, bias=True)\n",
              "        (norm1): LayerNorm((128,), eps=1e-05, elementwise_affine=True)\n",
              "        (norm2): LayerNorm((128,), eps=1e-05, elementwise_affine=True)\n",
              "        (dropout1): Dropout(p=0.1, inplace=False)\n",
              "        (dropout2): Dropout(p=0.1, inplace=False)\n",
              "      )\n",
              "    )\n",
              "  )\n",
              "  (decoder): Linear(in_features=128, out_features=1, bias=True)\n",
              ")"
            ]
          },
          "execution_count": 10,
          "metadata": {},
          "output_type": "execute_result"
        }
      ],
      "source": [
        "model = TransformerModel().to(device)\n",
        "model.load_state_dict(torch.load('weight/uni_transformer.pth'))\n",
        "model.eval()"
      ]
    },
    {
      "cell_type": "code",
      "execution_count": 11,
      "metadata": {
        "colab": {
          "base_uri": "https://localhost:8080/"
        },
        "id": "dE9fco0GOQr6",
        "outputId": "61c8ae63-9d94-4f4e-ff31-5b01add1f447"
      },
      "outputs": [
        {
          "name": "stdout",
          "output_type": "stream",
          "text": [
            "Score (MSE): 0.1471\n",
            "Score (MAE): 0.2579\n"
          ]
        }
      ],
      "source": [
        "from sklearn.metrics import mean_squared_error, mean_absolute_error, r2_score\n",
        "\n",
        "# Evaluation\n",
        "predictions = []\n",
        "with torch.no_grad():\n",
        "    for batch in test_loader:\n",
        "        x_batch, y_batch = batch\n",
        "        x_batch = x_batch.to(device)\n",
        "        outputs = model(x_batch)\n",
        "        predictions.extend(outputs.squeeze().tolist())\n",
        "\n",
        "# Convert predictions and ground truth to numpy arrays\n",
        "predictions = np.array(predictions)\n",
        "y_test_numpy = y_test.numpy()\n",
        "\n",
        "# # Calculate RMSE\n",
        "# rmse = np.sqrt(mean_squared_error(y_test_numpy, predictions))\n",
        "# print(f\"Score (RMSE): {rmse:.4f}\")\n",
        "\n",
        "# Calculate MSE\n",
        "mse = mean_squared_error(y_test_numpy, predictions)\n",
        "print(f\"Score (MSE): {mse:.4f}\")\n",
        "\n",
        "# Calculate MAE\n",
        "mae = mean_absolute_error(y_test_numpy, predictions)\n",
        "print(f\"Score (MAE): {mae:.4f}\")\n",
        "\n",
        "# # Calculate R-Squared\n",
        "# r2 = r2_score(y_test_numpy, predictions)\n",
        "# print(f\"Score (R-Squared): {r2:.4f}\")"
      ]
    },
    {
      "cell_type": "code",
      "execution_count": 12,
      "metadata": {
        "colab": {
          "base_uri": "https://localhost:8080/"
        },
        "id": "MuJd-40ptB4S",
        "outputId": "89c6ffb4-d07b-4d56-a5c0-830f48ab44b4"
      },
      "outputs": [
        {
          "data": {
            "text/plain": [
              "(404, 404)"
            ]
          },
          "execution_count": 12,
          "metadata": {},
          "output_type": "execute_result"
        }
      ],
      "source": [
        "# Inverse transform the predictions and ground truth to visualize\n",
        "predictions_inverse = scaler.inverse_transform(predictions.reshape(-1, 1)).reshape(-1)\n",
        "y_test_inverse = scaler.inverse_transform(y_test_numpy.reshape(-1, 1)).reshape(-1)\n",
        "\n",
        "len(y_test_inverse), len(predictions_inverse)"
      ]
    },
    {
      "cell_type": "code",
      "execution_count": 13,
      "metadata": {
        "colab": {
          "base_uri": "https://localhost:8080/",
          "height": 564
        },
        "id": "HqSQ5NXitdKt",
        "outputId": "b549f76e-3842-42d9-b64d-da567092de11"
      },
      "outputs": [
        {
          "data": {
            "image/png": "[encoded data removed]",
            "text/plain": [
              "<Figure size 1200x600 with 1 Axes>"
            ]
          },
          "metadata": {},
          "output_type": "display_data"
        }
      ],
      "source": [
        "import matplotlib.pyplot as plt\n",
        "\n",
        "plt.figure(figsize=(12, 6))\n",
        "plt.plot(y_test_inverse, label='True Values', color='blue')\n",
        "plt.plot(predictions_inverse, label='Predictions', color='red', alpha=0.7)\n",
        "plt.title('True Values vs Predictions')\n",
        "plt.xlabel('Sample Index')\n",
        "plt.ylabel('Value')\n",
        "plt.legend()\n",
        "plt.show()"
      ]
    },
    {
      "cell_type": "code",
      "execution_count": null,
      "metadata": {},
      "outputs": [],
      "source": []
    }
  ],
  "metadata": {
    "accelerator": "GPU",
    "anaconda-cloud": {},
    "colab": {
      "gpuType": "T4",
      "provenance": []
    },
    "kernelspec": {
      "display_name": "venv",
      "language": "python",
      "name": "python3"
    },
    "language_info": {
      "codemirror_mode": {
        "name": "ipython",
        "version": 3
      },
      "file_extension": ".py",
      "mimetype": "text/x-python",
      "name": "python",
      "nbconvert_exporter": "python",
      "pygments_lexer": "ipython3",
      "version": "3.10.2"
    }
  },
  "nbformat": 4,
  "nbformat_minor": 0
}
