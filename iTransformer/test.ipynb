{
 "cells": [
  {
   "cell_type": "code",
   "execution_count": 19,
   "metadata": {},
   "outputs": [],
   "source": [
    "import argparse\n",
    "import numpy as np\n",
    "import matplotlib.pyplot as plt\n",
    "from experiments.exp_basic import Exp_Basic\n",
    "from experiments.exp_long_term_forecasting_partial import Exp_Long_Term_Forecast_Partial\n",
    "from experiments.exp_long_term_forecasting import Exp_Long_Term_Forecast\n",
    "from data_provider.data_factory import data_provider\n",
    "from model.iTransformer import Model\n",
    "import random\n",
    "import torch\n",
    "import sys\n",
    "import os\n",
    "import re\n",
    "\n",
    "fix_seed = 2024\n",
    "random.seed(fix_seed)\n",
    "torch.manual_seed(fix_seed)\n",
    "np.random.seed(fix_seed)"
   ]
  },
  {
   "cell_type": "code",
   "execution_count": 20,
   "metadata": {},
   "outputs": [
    {
     "ename": "TypeError",
     "evalue": "Model.__init__() missing 1 required positional argument: 'configs'",
     "output_type": "error",
     "traceback": [
      "\u001b[1;31m---------------------------------------------------------------------------\u001b[0m",
      "\u001b[1;31mTypeError\u001b[0m                                 Traceback (most recent call last)",
      "Cell \u001b[1;32mIn[20], line 1\u001b[0m\n\u001b[1;32m----> 1\u001b[0m model \u001b[38;5;241m=\u001b[39m \u001b[43mModel\u001b[49m\u001b[43m(\u001b[49m\u001b[43m)\u001b[49m\n\u001b[0;32m      2\u001b[0m model\u001b[38;5;241m.\u001b[39mload_state_dict(torch\u001b[38;5;241m.\u001b[39mload(\u001b[38;5;124m'\u001b[39m\u001b[38;5;124mcheckpoints/custom-model_iTransformer_custom_S_ft96_sl48_ll96_pl128_dm8_nh2_el1_dl128_df1_fctimeF_ebTrue_dtExp_projection_0/checkpoint.pth\u001b[39m\u001b[38;5;124m'\u001b[39m))\n",
      "\u001b[1;31mTypeError\u001b[0m: Model.__init__() missing 1 required positional argument: 'configs'"
     ]
    }
   ],
   "source": [
    "model = Model()\n",
    "model.load_state_dict(torch.load('checkpoints/custom-model_iTransformer_custom_S_ft96_sl48_ll96_pl128_dm8_nh2_el1_dl128_df1_fctimeF_ebTrue_dtExp_projection_0/checkpoint.pth'))"
   ]
  },
  {
   "cell_type": "code",
   "execution_count": 6,
   "metadata": {},
   "outputs": [],
   "source": [
    "mae, mse, rmse, mape, mspe = np.load(os.path.join('results/' + setting, 'metrics.npy'))\n",
    "preds = np.load(os.path.join('results/' + setting, 'pred.npy'))\n",
    "trues = np.load(os.path.join('results/' + setting, 'true.npy'))\n",
    "train_loss = np.load(os.path.join('results/' + setting, 'train_loss.npy'))\n",
    "val_loss = np.load(os.path.join('results/' + setting, 'val_loss.npy'))"
   ]
  },
  {
   "cell_type": "code",
   "execution_count": 8,
   "metadata": {},
   "outputs": [
    {
     "data": {
      "text/plain": [
       "array([[[0.5891405 ],\n",
       "        [0.5891405 ],\n",
       "        [0.5891405 ],\n",
       "        ...,\n",
       "        [0.47864905],\n",
       "        [0.47864905],\n",
       "        [0.5368024 ]],\n",
       "\n",
       "       [[0.5891405 ],\n",
       "        [0.5891405 ],\n",
       "        [0.5891405 ],\n",
       "        ...,\n",
       "        [0.47864905],\n",
       "        [0.5368024 ],\n",
       "        [0.5019104 ]],\n",
       "\n",
       "       [[0.5891405 ],\n",
       "        [0.5891405 ],\n",
       "        [0.5891405 ],\n",
       "        ...,\n",
       "        [0.5368024 ],\n",
       "        [0.5019104 ],\n",
       "        [0.4902797 ]],\n",
       "\n",
       "       ...,\n",
       "\n",
       "       [[2.5430944 ],\n",
       "        [2.54891   ],\n",
       "        [2.54891   ],\n",
       "        ...,\n",
       "        [2.4791257 ],\n",
       "        [2.3860803 ],\n",
       "        [2.4093418 ]],\n",
       "\n",
       "       [[2.54891   ],\n",
       "        [2.54891   ],\n",
       "        [2.5721712 ],\n",
       "        ...,\n",
       "        [2.3860803 ],\n",
       "        [2.4093418 ],\n",
       "        [2.4093418 ]],\n",
       "\n",
       "       [[2.54891   ],\n",
       "        [2.5721712 ],\n",
       "        [2.4558644 ],\n",
       "        ...,\n",
       "        [2.4093418 ],\n",
       "        [2.4093418 ],\n",
       "        [2.4093418 ]]], dtype=float32)"
      ]
     },
     "execution_count": 8,
     "metadata": {},
     "output_type": "execute_result"
    }
   ],
   "source": [
    "trues"
   ]
  },
  {
   "cell_type": "code",
   "execution_count": 9,
   "metadata": {},
   "outputs": [
    {
     "data": {
      "text/plain": [
       "array([0.68322264, 0.60529286, 0.57409283, 0.56181302, 0.55694538])"
      ]
     },
     "execution_count": 9,
     "metadata": {},
     "output_type": "execute_result"
    }
   ],
   "source": [
    "train_loss"
   ]
  },
  {
   "cell_type": "code",
   "execution_count": 10,
   "metadata": {},
   "outputs": [],
   "source": [
    "plt.plot(train_loss)\n",
    "\n",
    "plt.title('Training Loss')\n",
    "plt.show()"
   ]
  },
  {
   "cell_type": "code",
   "execution_count": 11,
   "metadata": {},
   "outputs": [],
   "source": [
    "plt.plot(val_loss)\n",
    "\n",
    "plt.title('Validation Loss')\n",
    "plt.show()"
   ]
  },
  {
   "cell_type": "code",
   "execution_count": null,
   "metadata": {},
   "outputs": [],
   "source": []
  },
  {
   "cell_type": "code",
   "execution_count": 61,
   "metadata": {},
   "outputs": [],
   "source": [
    "\n"
   ]
  }
 ],
 "metadata": {
  "kernelspec": {
   "display_name": "base",
   "language": "python",
   "name": "python3"
  },
  "language_info": {
   "codemirror_mode": {
    "name": "ipython",
    "version": 3
   },
   "file_extension": ".py",
   "mimetype": "text/x-python",
   "name": "python",
   "nbconvert_exporter": "python",
   "pygments_lexer": "ipython3",
   "version": "3.10.2"
  }
 },
 "nbformat": 4,
 "nbformat_minor": 2
}
